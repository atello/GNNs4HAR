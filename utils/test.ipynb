{
 "cells": [
  {
   "cell_type": "code",
   "execution_count": 11,
   "id": "de92c075",
   "metadata": {},
   "outputs": [],
   "source": [
    "#@title [RUN] Import python modules\n",
    "\n",
    "import os\n",
    "import time\n",
    "import random\n",
    "import numpy as np\n",
    "\n",
    "from scipy.stats import ortho_group\n",
    "\n",
    "import torch\n",
    "import torch.nn.functional as F\n",
    "from torch.nn import Linear, ReLU, BatchNorm1d, Module, Sequential\n",
    "\n",
    "import torch_geometric\n",
    "from torch_geometric.data import Data\n",
    "from torch_geometric.data import Batch\n",
    "from torch_geometric.datasets import QM9\n",
    "import torch_geometric.transforms as T\n",
    "from torch_geometric.utils import remove_self_loops, to_dense_adj, dense_to_sparse\n",
    "from torch_geometric.loader import DataLoader\n",
    "from torch_geometric.nn import MessagePassing, global_mean_pool\n",
    "from torch_geometric.datasets import QM9\n",
    "from torch_scatter import scatter\n",
    "\n",
    "# import rdkit.Chem as Chem\n",
    "# from rdkit.Geometry.rdGeometry import Point3D\n",
    "# from rdkit.Chem import QED, Crippen, rdMolDescriptors, rdmolops\n",
    "# from rdkit.Chem.Draw import IPythonConsole\n",
    "\n",
    "# import py3Dmol\n",
    "# from rdkit.Chem import AllChem\n",
    "\n",
    "import matplotlib.pyplot as plt\n",
    "# import seaborn as sns\n",
    "import pandas as pd\n",
    "\n"
   ]
  },
  {
   "cell_type": "code",
   "execution_count": 14,
   "id": "59441f0f",
   "metadata": {},
   "outputs": [],
   "source": [
    "#@title [RUN] Set random seed for deterministic results\n",
    "\n",
    "def seed(seed=0):\n",
    "    random.seed(seed)\n",
    "    np.random.seed(seed)\n",
    "    torch.manual_seed(seed)\n",
    "    torch.cuda.manual_seed(seed)\n",
    "    torch.cuda.manual_seed_all(seed)\n",
    "    torch.backends.cudnn.deterministic = True\n",
    "    torch.backends.cudnn.benchmark = False\n",
    "\n",
    "seed(0)"
   ]
  },
  {
   "cell_type": "code",
   "execution_count": 15,
   "id": "0ea7a3ff",
   "metadata": {},
   "outputs": [],
   "source": [
    "#@title [RUN] Helper functions for data preparation\n",
    "\n",
    "class SetTarget(object):\n",
    "    \"\"\"\n",
    "    This transform mofifies the labels vector per data sample to only keep \n",
    "    the label for a specific target (there are 19 targets in QM9).\n",
    "\n",
    "    Note: for this practical, we have hardcoded the target to be target #0,\n",
    "    i.e. the electric dipole moment of a drug-like molecule.\n",
    "    (https://en.wikipedia.org/wiki/Electric_dipole_moment)\n",
    "    \"\"\"\n",
    "    def __call__(self, data):\n",
    "        target = 0 # we hardcoded choice of target  \n",
    "        data.y = data.y[:, target]\n",
    "        return data\n",
    "\n",
    "\n",
    "class CompleteGraph(object):\n",
    "    \"\"\"\n",
    "    This transform adds all pairwise edges into the edge index per data sample, \n",
    "    then removes self loops, i.e. it builds a fully connected or complete graph\n",
    "    \"\"\"\n",
    "    def __call__(self, data):\n",
    "        device = data.edge_index.device\n",
    "\n",
    "        row = torch.arange(data.num_nodes, dtype=torch.long, device=device)\n",
    "        col = torch.arange(data.num_nodes, dtype=torch.long, device=device)\n",
    "\n",
    "        row = row.view(-1, 1).repeat(1, data.num_nodes).view(-1)\n",
    "        col = col.repeat(data.num_nodes)\n",
    "        edge_index = torch.stack([row, col], dim=0)\n",
    "\n",
    "        edge_attr = None\n",
    "        if data.edge_attr is not None:\n",
    "            idx = data.edge_index[0] * data.num_nodes + data.edge_index[1]\n",
    "            size = list(data.edge_attr.size())\n",
    "            size[0] = data.num_nodes * data.num_nodes\n",
    "            edge_attr = data.edge_attr.new_zeros(size)\n",
    "            edge_attr[idx] = data.edge_attr\n",
    "\n",
    "        edge_index, edge_attr = remove_self_loops(edge_index, edge_attr)\n",
    "        data.edge_attr = edge_attr\n",
    "        data.edge_index = edge_index\n",
    "\n",
    "        return data"
   ]
  },
  {
   "cell_type": "code",
   "execution_count": 17,
   "id": "1eafced9",
   "metadata": {},
   "outputs": [],
   "source": [
    "# For storing experimental results over the course of the practical\n",
    "RESULTS = {}\n",
    "DF_RESULTS = pd.DataFrame(columns=[\"Test MAE\", \"Val MAE\", \"Epoch\", \"Model\"])"
   ]
  },
  {
   "cell_type": "code",
   "execution_count": 16,
   "id": "dcb47ef8",
   "metadata": {},
   "outputs": [
    {
     "name": "stderr",
     "output_type": "stream",
     "text": [
      "Downloading https://data.pyg.org/datasets/qm9_v3.zip\n",
      "Extracting qm9/raw/qm9_v3.zip\n",
      "Processing...\n",
      "Using a pre-processed version of the dataset. Please install 'rdkit' to alternatively process the raw data.\n",
      "Done!\n"
     ]
    }
   ],
   "source": [
    "if 'IS_GRADESCOPE_ENV' not in os.environ:\n",
    "    path = './qm9'\n",
    "    target = 0\n",
    "\n",
    "    # Transforms which are applied during data loading:\n",
    "    # (1) Fully connect the graphs, (2) Select the target/label\n",
    "    transform = T.Compose([CompleteGraph(), SetTarget()])\n",
    "    \n",
    "    # Load the QM9 dataset with the transforms defined\n",
    "    dataset = QM9(path, transform=transform)\n",
    "\n",
    "    # Normalize targets per data sample to mean = 0 and std = 1.\n",
    "    mean = dataset.data.y.mean(dim=0, keepdim=True)\n",
    "    std = dataset.data.y.std(dim=0, keepdim=True)\n",
    "    dataset.data.y = (dataset.data.y - mean) / std\n",
    "    mean, std = mean[:, target].item(), std[:, target].item()"
   ]
  },
  {
   "cell_type": "code",
   "execution_count": 18,
   "id": "248c64f3",
   "metadata": {},
   "outputs": [
    {
     "name": "stdout",
     "output_type": "stream",
     "text": [
      "Total number of samples: 130831.\n",
      "Created dataset splits with 1000 training, 1000 validation, 1000 test samples.\n"
     ]
    }
   ],
   "source": [
    "print(f\"Total number of samples: {len(dataset)}.\")\n",
    "\n",
    "# Split datasets (in case of using the full dataset)\n",
    "# test_dataset = dataset[:10000]\n",
    "# val_dataset = dataset[10000:20000]\n",
    "# train_dataset = dataset[20000:]\n",
    "\n",
    "# Split datasets (our 3K subset)\n",
    "train_dataset = dataset[:1000]\n",
    "val_dataset = dataset[1000:2000]\n",
    "test_dataset = dataset[2000:3000]\n",
    "print(f\"Created dataset splits with {len(train_dataset)} training, {len(val_dataset)} validation, {len(test_dataset)} test samples.\")\n",
    "\n",
    "# Create dataloaders with batch size = 32\n",
    "train_loader = DataLoader(train_dataset, batch_size=32, shuffle=True)\n",
    "val_loader = DataLoader(val_dataset, batch_size=32, shuffle=False)\n",
    "test_loader = DataLoader(test_dataset, batch_size=32, shuffle=False)"
   ]
  },
  {
   "cell_type": "code",
   "execution_count": 24,
   "id": "af0f630d",
   "metadata": {},
   "outputs": [
    {
     "name": "stdout",
     "output_type": "stream",
     "text": [
      "Let us print all the attributes (along with their shapes) that our PyG molecular graph contains:\n",
      "Data(x=[5, 11], edge_index=[2, 20], edge_attr=[20, 4], y=[1], pos=[5, 3], idx=[1], name='gdb_1', z=[5])\n"
     ]
    }
   ],
   "source": [
    "data = train_dataset[0] # one data sample, i.e. molecular graph\n",
    "print(\"Let us print all the attributes (along with their shapes) that our PyG molecular graph contains:\")\n",
    "print(data)"
   ]
  },
  {
   "cell_type": "code",
   "execution_count": 26,
   "id": "b719200b",
   "metadata": {},
   "outputs": [
    {
     "name": "stdout",
     "output_type": "stream",
     "text": [
      "\n",
      "This molecule has 5 atoms, and 20 edges.\n",
      "\n",
      "For each atom, we are given a feature vector with 11 entries (described above).\n",
      "\n",
      "For each edge, we are given a feature vector with 4 entries (also described above).\n",
      "\n",
      "In the next section, we will learn how to build a GNN in the Message Passing flavor to process the node and edge features of molecular graphs and predict their properties.\n",
      "\n",
      "Each atom also has a 3-dimensional coordinate associated with it. We will talk about their importance later in the practical.\n",
      "\n",
      "Finally, we have 1 regression target for the entire molecule.\n"
     ]
    }
   ],
   "source": [
    "print(f\"\\nThis molecule has {data.x.shape[0]} atoms, and {data.edge_attr.shape[0]} edges.\")\n",
    "\n",
    "print(f\"\\nFor each atom, we are given a feature vector with {data.x.shape[1]} entries (described above).\")\n",
    "\n",
    "print(f\"\\nFor each edge, we are given a feature vector with {data.edge_attr.shape[1]} entries (also described above).\")\n",
    "\n",
    "print(f\"\\nIn the next section, we will learn how to build a GNN in the Message Passing flavor to process the node and edge features of molecular graphs and predict their properties.\")\n",
    "\n",
    "print(f\"\\nEach atom also has a {data.pos.shape[1]}-dimensional coordinate associated with it. We will talk about their importance later in the practical.\")\n",
    "\n",
    "print(f\"\\nFinally, we have {data.y.shape[0]} regression target for the entire molecule.\")"
   ]
  },
  {
   "cell_type": "code",
   "execution_count": 27,
   "id": "ca46c04a",
   "metadata": {},
   "outputs": [],
   "source": [
    "class MPNNLayer(MessagePassing):\n",
    "    def __init__(self, emb_dim=64, edge_dim=4, aggr='add'):\n",
    "        \"\"\"Message Passing Neural Network Layer\n",
    "\n",
    "        Args:\n",
    "            emb_dim: (int) - hidden dimension `d`\n",
    "            edge_dim: (int) - edge feature dimension `d_e`\n",
    "            aggr: (str) - aggregation function `\\oplus` (sum/mean/max)\n",
    "        \"\"\"\n",
    "        # Set the aggregation function\n",
    "        super().__init__(aggr=aggr)\n",
    "\n",
    "        self.emb_dim = emb_dim\n",
    "        self.edge_dim = edge_dim\n",
    "\n",
    "        # MLP `\\psi` for computing messages `m_ij`\n",
    "        # Implemented as a stack of Linear->BN->ReLU->Linear->BN->ReLU\n",
    "        # dims: (2d + d_e) -> d\n",
    "        self.mlp_msg = Sequential(\n",
    "            Linear(2*emb_dim + edge_dim, emb_dim), BatchNorm1d(emb_dim), ReLU(),\n",
    "            Linear(emb_dim, emb_dim), BatchNorm1d(emb_dim), ReLU()\n",
    "          )\n",
    "        \n",
    "        # MLP `\\phi` for computing updated node features `h_i^{l+1}`\n",
    "        # Implemented as a stack of Linear->BN->ReLU->Linear->BN->ReLU\n",
    "        # dims: 2d -> d\n",
    "        self.mlp_upd = Sequential(\n",
    "            Linear(2*emb_dim, emb_dim), BatchNorm1d(emb_dim), ReLU(), \n",
    "            Linear(emb_dim, emb_dim), BatchNorm1d(emb_dim), ReLU()\n",
    "          )\n",
    "\n",
    "    def forward(self, h, edge_index, edge_attr):\n",
    "        \"\"\"\n",
    "        The forward pass updates node features `h` via one round of message passing.\n",
    "\n",
    "        As our MPNNLayer class inherits from the PyG MessagePassing parent class,\n",
    "        we simply need to call the `propagate()` function which starts the \n",
    "        message passing procedure: `message()` -> `aggregate()` -> `update()`.\n",
    "        \n",
    "        The MessagePassing class handles most of the logic for the implementation.\n",
    "        To build custom GNNs, we only need to define our own `message()`, \n",
    "        `aggregate()`, and `update()` functions (defined subsequently).\n",
    "\n",
    "        Args:\n",
    "            h: (n, d) - initial node features\n",
    "            edge_index: (e, 2) - pairs of edges (i, j)\n",
    "            edge_attr: (e, d_e) - edge features\n",
    "\n",
    "        Returns:\n",
    "            out: (n, d) - updated node features\n",
    "        \"\"\"\n",
    "        out = self.propagate(edge_index, h=h, edge_attr=edge_attr)\n",
    "        return out\n",
    "\n",
    "    def message(self, h_i, h_j, edge_attr):\n",
    "        \"\"\"Step (1) Message\n",
    "\n",
    "        The `message()` function constructs messages from source nodes j \n",
    "        to destination nodes i for each edge (i, j) in `edge_index`.\n",
    "\n",
    "        The arguments can be a bit tricky to understand: `message()` can take \n",
    "        any arguments that were initially passed to `propagate`. Additionally, \n",
    "        we can differentiate destination nodes and source nodes by appending \n",
    "        `_i` or `_j` to the variable name, e.g. for the node features `h`, we\n",
    "        can use `h_i` and `h_j`. \n",
    "        \n",
    "        This part is critical to understand as the `message()` function\n",
    "        constructs messages for each edge in the graph. The indexing of the\n",
    "        original node features `h` (or other node variables) is handled under\n",
    "        the hood by PyG.\n",
    "\n",
    "        Args:\n",
    "            h_i: (e, d) - destination node features\n",
    "            h_j: (e, d) - source node features\n",
    "            edge_attr: (e, d_e) - edge features\n",
    "        \n",
    "        Returns:\n",
    "            msg: (e, d) - messages `m_ij` passed through MLP `\\psi`\n",
    "        \"\"\"\n",
    "        msg = torch.cat([h_i, h_j, edge_attr], dim=-1)\n",
    "        return self.mlp_msg(msg)\n",
    "    \n",
    "    def aggregate(self, inputs, index):\n",
    "        \"\"\"Step (2) Aggregate\n",
    "\n",
    "        The `aggregate` function aggregates the messages from neighboring nodes,\n",
    "        according to the chosen aggregation function ('sum' by default).\n",
    "\n",
    "        Args:\n",
    "            inputs: (e, d) - messages `m_ij` from destination to source nodes\n",
    "            index: (e, 1) - list of source nodes for each edge/message in `input`\n",
    "\n",
    "        Returns:\n",
    "            aggr_out: (n, d) - aggregated messages `m_i`\n",
    "        \"\"\"\n",
    "        return scatter(inputs, index, dim=self.node_dim, reduce=self.aggr)\n",
    "    \n",
    "    def update(self, aggr_out, h):\n",
    "        \"\"\"\n",
    "        Step (3) Update\n",
    "\n",
    "        The `update()` function computes the final node features by combining the \n",
    "        aggregated messages with the initial node features.\n",
    "\n",
    "        `update()` takes the first argument `aggr_out`, the result of `aggregate()`, \n",
    "        as well as any optional arguments that were initially passed to \n",
    "        `propagate()`. E.g. in this case, we additionally pass `h`.\n",
    "\n",
    "        Args:\n",
    "            aggr_out: (n, d) - aggregated messages `m_i`\n",
    "            h: (n, d) - initial node features\n",
    "\n",
    "        Returns:\n",
    "            upd_out: (n, d) - updated node features passed through MLP `\\phi`\n",
    "        \"\"\"\n",
    "        upd_out = torch.cat([h, aggr_out], dim=-1)\n",
    "        return self.mlp_upd(upd_out)\n",
    "\n",
    "    def __repr__(self) -> str:\n",
    "        return (f'{self.__class__.__name__}(emb_dim={self.emb_dim}, aggr={self.aggr})')"
   ]
  },
  {
   "cell_type": "code",
   "execution_count": 28,
   "id": "4ac784a7",
   "metadata": {},
   "outputs": [],
   "source": [
    "class MPNNModel(Module):\n",
    "    def __init__(self, num_layers=4, emb_dim=64, in_dim=11, edge_dim=4, out_dim=1):\n",
    "        \"\"\"Message Passing Neural Network model for graph property prediction\n",
    "\n",
    "        Args:\n",
    "            num_layers: (int) - number of message passing layers `L`\n",
    "            emb_dim: (int) - hidden dimension `d`\n",
    "            in_dim: (int) - initial node feature dimension `d_n`\n",
    "            edge_dim: (int) - edge feature dimension `d_e`\n",
    "            out_dim: (int) - output dimension (fixed to 1)\n",
    "        \"\"\"\n",
    "        super().__init__()\n",
    "        \n",
    "        # Linear projection for initial node features\n",
    "        # dim: d_n -> d\n",
    "        self.lin_in = Linear(in_dim, emb_dim)\n",
    "        \n",
    "        # Stack of MPNN layers\n",
    "        self.convs = torch.nn.ModuleList()\n",
    "        for layer in range(num_layers):\n",
    "            self.convs.append(MPNNLayer(emb_dim, edge_dim, aggr='add'))\n",
    "        \n",
    "        # Global pooling/readout function `R` (mean pooling)\n",
    "        # PyG handles the underlying logic via `global_mean_pool()`\n",
    "        self.pool = global_mean_pool\n",
    "\n",
    "        # Linear prediction head\n",
    "        # dim: d -> out_dim\n",
    "        self.lin_pred = Linear(emb_dim, out_dim)\n",
    "        \n",
    "    def forward(self, data):\n",
    "        \"\"\"\n",
    "        Args:\n",
    "            data: (PyG.Data) - batch of PyG graphs\n",
    "\n",
    "        Returns: \n",
    "            out: (batch_size, out_dim) - prediction for each graph\n",
    "        \"\"\"\n",
    "        h = self.lin_in(data.x) # (n, d_n) -> (n, d)\n",
    "        \n",
    "        for conv in self.convs:\n",
    "            h = h + conv(h, data.edge_index, data.edge_attr) # (n, d) -> (n, d)\n",
    "            # Note that we add a residual connection after each MPNN layer\n",
    "\n",
    "        h_graph = self.pool(h, data.batch) # (n, d) -> (batch_size, d)\n",
    "\n",
    "        out = self.lin_pred(h_graph) # (batch_size, d) -> (batch_size, 1)\n",
    "\n",
    "        return out.view(-1)"
   ]
  },
  {
   "cell_type": "code",
   "execution_count": 29,
   "id": "267122b4",
   "metadata": {},
   "outputs": [],
   "source": [
    "def permute_graph(data, perm):\n",
    "    \"\"\"Helper function for permuting PyG Data object attributes consistently.\n",
    "    \"\"\"\n",
    "    # Permute the node attribute ordering\n",
    "    data.x = data.x[perm]\n",
    "    data.pos = data.pos[perm]\n",
    "    data.z = data.z[perm]\n",
    "    data.batch = data.batch[perm]\n",
    "\n",
    "    # Permute the edge index\n",
    "    adj = to_dense_adj(data.edge_index)\n",
    "    adj = adj[:, perm, :]\n",
    "    adj = adj[:, :, perm]\n",
    "    data.edge_index = dense_to_sparse(adj)[0]\n",
    "\n",
    "    # Note: \n",
    "    # (1) While we originally defined the permutation matrix P as only having \n",
    "    #     entries 0 and 1, its implementation via `perm` uses indexing into \n",
    "    #     torch tensors, instead. \n",
    "    # (2) It is cumbersome to permute the edge_attr, so we set it to constant \n",
    "    #     dummy values. For any experiments beyond unit testing, all GNN models \n",
    "    #     use the original edge_attr.\n",
    "\n",
    "    return data\n",
    "\n",
    "def permutation_invariance_unit_test(module, dataloader):\n",
    "    \"\"\"Unit test for checking whether a module (GNN model) is \n",
    "    permutation invariant.\n",
    "    \"\"\"\n",
    "    it = iter(dataloader)\n",
    "    data = next(it)\n",
    "\n",
    "    # Set edge_attr to dummy values (for simplicity)\n",
    "    data.edge_attr = torch.zeros(data.edge_attr.shape)\n",
    "\n",
    "    # Forward pass on original example\n",
    "    out_1 = module(data)\n",
    "\n",
    "    # Create random permutation\n",
    "    perm = torch.randperm(data.x.shape[0])\n",
    "    data = permute_graph(data, perm)\n",
    "\n",
    "    # Forward pass on permuted example\n",
    "    out_2 = module(data)\n",
    "\n",
    "    # Check whether output varies after applying transformations\n",
    "    return torch.allclose(out_1, out_2, atol=1e-04)\n",
    "\n",
    "\n",
    "def permutation_equivariance_unit_test(module, dataloader):\n",
    "    \"\"\"Unit test for checking whether a module (GNN layer) is \n",
    "    permutation equivariant.\n",
    "    \"\"\"\n",
    "    it = iter(dataloader)\n",
    "    data = next(it)\n",
    "\n",
    "    # Set edge_attr to dummy values (for simplicity)\n",
    "    data.edge_attr = torch.zeros(data.edge_attr.shape)\n",
    "\n",
    "    # Forward pass on original example\n",
    "    out_1 = module(data.x, data.edge_index, data.edge_attr)\n",
    "\n",
    "    # Create random permutation\n",
    "    perm = torch.randperm(data.x.shape[0])\n",
    "    data = permute_graph(data, perm)\n",
    "\n",
    "    # Forward pass on permuted example\n",
    "    out_2 = module(data.x, data.edge_index, data.edge_attr)\n",
    "\n",
    "    # Check whether output varies after applying transformations\n",
    "    return torch.allclose(out_1[perm], out_2, atol=1e-04)"
   ]
  },
  {
   "cell_type": "code",
   "execution_count": 30,
   "id": "48e1cdbe",
   "metadata": {},
   "outputs": [
    {
     "name": "stdout",
     "output_type": "stream",
     "text": [
      "Is MPNNModel permutation invariant? --> True!\n",
      "Is MPNNLayer permutation equivariant? --> True!\n"
     ]
    }
   ],
   "source": [
    "# Instantiate temporary model, layer, and dataloader for unit testing\n",
    "layer = MPNNLayer(emb_dim=11, edge_dim=4)\n",
    "model = MPNNModel(num_layers=4, emb_dim=64, in_dim=11, edge_dim=4, out_dim=1)\n",
    "dataloader = DataLoader(train_dataset, batch_size=1, shuffle=True)\n",
    "\n",
    "# Permutation invariance unit test for MPNN model\n",
    "print(f\"Is {type(model).__name__} permutation invariant? --> {permutation_invariance_unit_test(model, dataloader)}!\")\n",
    "\n",
    "# Permutation equivariance unit for MPNN layer\n",
    "print(f\"Is {type(layer).__name__} permutation equivariant? --> {permutation_equivariance_unit_test(layer, dataloader)}!\")"
   ]
  },
  {
   "cell_type": "code",
   "execution_count": 31,
   "id": "9a4dfd59",
   "metadata": {},
   "outputs": [],
   "source": [
    "#@title [RUN] Helper functions for managing experiments, training, and evaluating models.\n",
    "\n",
    "def train(model, train_loader, optimizer, device):\n",
    "    model.train()\n",
    "    loss_all = 0\n",
    "\n",
    "    for data in train_loader:\n",
    "        data = data.to(device)\n",
    "        optimizer.zero_grad()\n",
    "        y_pred = model(data)\n",
    "        loss = F.mse_loss(y_pred, data.y)\n",
    "        loss.backward()\n",
    "        loss_all += loss.item() * data.num_graphs\n",
    "        optimizer.step()\n",
    "    return loss_all / len(train_loader.dataset)\n",
    "\n",
    "\n",
    "def eval(model, loader, device):\n",
    "    model.eval()\n",
    "    error = 0\n",
    "\n",
    "    for data in loader:\n",
    "        data = data.to(device)\n",
    "        with torch.no_grad():\n",
    "            y_pred = model(data)\n",
    "            # Mean Absolute Error using std (computed when preparing data)\n",
    "            error += (y_pred * std - data.y * std).abs().sum().item()\n",
    "    return error / len(loader.dataset)\n",
    "\n",
    "\n",
    "def run_experiment(model, model_name, train_loader, val_loader, test_loader, n_epochs=100):\n",
    "    \n",
    "    print(f\"Running experiment for {model_name}, training on {len(train_loader.dataset)} samples for {n_epochs} epochs.\")\n",
    "    \n",
    "    device = torch.device('cuda' if torch.cuda.is_available() else 'cpu')\n",
    "\n",
    "    print(\"\\nModel architecture:\")\n",
    "    print(model)\n",
    "    total_param = 0\n",
    "    for param in model.parameters():\n",
    "        total_param += np.prod(list(param.data.size()))\n",
    "    print(f'Total parameters: {total_param}')\n",
    "    model = model.to(device)\n",
    "\n",
    "    # Adam optimizer with LR 1e-3\n",
    "    optimizer = torch.optim.Adam(model.parameters(), lr=0.001)\n",
    "\n",
    "    # LR scheduler which decays LR when validation metric doesn't improve\n",
    "    scheduler = torch.optim.lr_scheduler.ReduceLROnPlateau(\n",
    "        optimizer, mode='min', factor=0.9, patience=5, min_lr=0.00001)\n",
    "    \n",
    "    print(\"\\nStart training:\")\n",
    "    best_val_error = None\n",
    "    perf_per_epoch = [] # Track Test/Val MAE vs. epoch (for plotting)\n",
    "    t = time.time()\n",
    "    for epoch in range(1, n_epochs+1):\n",
    "        # Call LR scheduler at start of each epoch\n",
    "        lr = scheduler.optimizer.param_groups[0]['lr']\n",
    "\n",
    "        # Train model for one epoch, return avg. training loss\n",
    "        loss = train(model, train_loader, optimizer, device)\n",
    "        \n",
    "        # Evaluate model on validation set\n",
    "        val_error = eval(model, val_loader, device)\n",
    "        \n",
    "        if best_val_error is None or val_error <= best_val_error:\n",
    "            # Evaluate model on test set if validation metric improves\n",
    "            test_error = eval(model, test_loader, device)\n",
    "            best_val_error = val_error\n",
    "\n",
    "        if epoch % 10 == 0:\n",
    "            # Print and track stats every 10 epochs\n",
    "            print(f'Epoch: {epoch:03d}, LR: {lr:5f}, Loss: {loss:.7f}, '\n",
    "                  f'Val MAE: {val_error:.7f}, Test MAE: {test_error:.7f}')\n",
    "        \n",
    "        scheduler.step(val_error)\n",
    "        perf_per_epoch.append((test_error, val_error, epoch, model_name))\n",
    "    \n",
    "    t = time.time() - t\n",
    "    train_time = t/60\n",
    "    print(f\"\\nDone! Training took {train_time:.2f} mins. Best validation MAE: {best_val_error:.7f}, corresponding test MAE: {test_error:.7f}.\")\n",
    "    \n",
    "    return best_val_error, test_error, train_time, perf_per_epoch"
   ]
  },
  {
   "cell_type": "code",
   "execution_count": 32,
   "id": "a416a155",
   "metadata": {},
   "outputs": [
    {
     "name": "stdout",
     "output_type": "stream",
     "text": [
      "Running experiment for MPNNModel, training on 1000 samples for 100 epochs.\n",
      "\n",
      "Model architecture:\n",
      "MPNNModel(\n",
      "  (lin_in): Linear(in_features=11, out_features=64, bias=True)\n",
      "  (convs): ModuleList(\n",
      "    (0): MPNNLayer(emb_dim=64, aggr=add)\n",
      "    (1): MPNNLayer(emb_dim=64, aggr=add)\n",
      "    (2): MPNNLayer(emb_dim=64, aggr=add)\n",
      "    (3): MPNNLayer(emb_dim=64, aggr=add)\n",
      "  )\n",
      "  (lin_pred): Linear(in_features=64, out_features=1, bias=True)\n",
      ")\n",
      "Total parameters: 103233\n",
      "\n",
      "Start training:\n",
      "Epoch: 010, LR: 0.001000, Loss: 0.4948120, Val MAE: 1.4796823, Test MAE: 0.8774243\n",
      "Epoch: 020, LR: 0.001000, Loss: 0.4079943, Val MAE: 1.0963089, Test MAE: 0.6694715\n",
      "Epoch: 030, LR: 0.000900, Loss: 0.3635471, Val MAE: 0.9741636, Test MAE: 0.6694715\n",
      "Epoch: 040, LR: 0.000729, Loss: 0.2982548, Val MAE: 0.9189930, Test MAE: 0.6694715\n",
      "Epoch: 050, LR: 0.000590, Loss: 0.2049501, Val MAE: 0.9065362, Test MAE: 0.6694715\n",
      "Epoch: 060, LR: 0.000590, Loss: 0.1951314, Val MAE: 0.9730936, Test MAE: 0.6323440\n",
      "Epoch: 070, LR: 0.000478, Loss: 0.1529460, Val MAE: 0.8807238, Test MAE: 0.6323440\n",
      "Epoch: 080, LR: 0.000387, Loss: 0.1215685, Val MAE: 0.8418495, Test MAE: 0.6323440\n",
      "Epoch: 090, LR: 0.000349, Loss: 0.0851143, Val MAE: 0.8694037, Test MAE: 0.6323440\n",
      "Epoch: 100, LR: 0.000282, Loss: 0.0596807, Val MAE: 0.7925255, Test MAE: 0.6323440\n",
      "\n",
      "Done! Training took 1.70 mins. Best validation MAE: 0.7833875, corresponding test MAE: 0.6323440.\n"
     ]
    },
    {
     "name": "stderr",
     "output_type": "stream",
     "text": [
      "/tmp/ipykernel_18302/709837178.py:13: FutureWarning: The frame.append method is deprecated and will be removed from pandas in a future version. Use pandas.concat instead.\n",
      "  DF_RESULTS = DF_RESULTS.append(df_temp, ignore_index=True)\n"
     ]
    }
   ],
   "source": [
    "model = MPNNModel(num_layers=4, emb_dim=64, in_dim=11, edge_dim=4, out_dim=1)\n",
    "model_name = type(model).__name__\n",
    "best_val_error, test_error, train_time, perf_per_epoch = run_experiment(\n",
    "    model, \n",
    "    model_name, \n",
    "    train_loader,\n",
    "    val_loader, \n",
    "    test_loader,\n",
    "    n_epochs=100\n",
    ")\n",
    "RESULTS[model_name] = (best_val_error, test_error, train_time)\n",
    "df_temp = pd.DataFrame(perf_per_epoch, columns=[\"Test MAE\", \"Val MAE\", \"Epoch\", \"Model\"])\n",
    "DF_RESULTS = DF_RESULTS.append(df_temp, ignore_index=True)"
   ]
  },
  {
   "cell_type": "code",
   "execution_count": 33,
   "id": "f991f43b",
   "metadata": {},
   "outputs": [
    {
     "data": {
      "text/plain": [
       "{'MPNNModel': (0.783387480020523, 0.6323439960479736, 1.704480493068695)}"
      ]
     },
     "execution_count": 33,
     "metadata": {},
     "output_type": "execute_result"
    }
   ],
   "source": [
    "RESULTS"
   ]
  },
  {
   "cell_type": "code",
   "execution_count": 45,
   "id": "65b1d4a7",
   "metadata": {},
   "outputs": [
    {
     "data": {
      "text/plain": [
       "<AxesSubplot:xlabel='Epoch'>"
      ]
     },
     "execution_count": 45,
     "metadata": {},
     "output_type": "execute_result"
    },
    {
     "data": {
      "image/png": "[encoded data removed]",
      "text/plain": [
       "<Figure size 432x288 with 1 Axes>"
      ]
     },
     "metadata": {
      "needs_background": "light"
     },
     "output_type": "display_data"
    }
   ],
   "source": [
    "DF_RESULTS.plot(x=\"Epoch\", y=\"Val MAE\")"
   ]
  },
  {
   "cell_type": "code",
   "execution_count": 46,
   "id": "3c46ee78",
   "metadata": {},
   "outputs": [
    {
     "data": {
      "text/plain": [
       "<AxesSubplot:xlabel='Epoch'>"
      ]
     },
     "execution_count": 46,
     "metadata": {},
     "output_type": "execute_result"
    },
    {
     "data": {
      "image/png": "[encoded data removed]",
      "text/plain": [
       "<Figure size 432x288 with 1 Axes>"
      ]
     },
     "metadata": {
      "needs_background": "light"
     },
     "output_type": "display_data"
    }
   ],
   "source": [
    "DF_RESULTS.plot(x=\"Epoch\", y=\"Test MAE\")"
   ]
  },
  {
   "cell_type": "code",
   "execution_count": 3,
   "id": "6a1b1208",
   "metadata": {},
   "outputs": [
    {
     "data": {
      "text/plain": [
       "2592"
      ]
     },
     "execution_count": 3,
     "metadata": {},
     "output_type": "execute_result"
    }
   ],
   "source": [
    "import itertools\n",
    "params = [[3, 5], [32, 64, 128], [0.01, 0.05, 0.001, 0.005, 0.0001, 0.0005], [0.5, 0.8], [0, 0.5], [True, False],\n",
    "          [\"add\", \"mean\", \"max\"], [\"add\", \"mean\", \"max\"]]\n",
    "search_grid = itertools.product(*params)\n",
    "\n",
    "len(list(search_grid))"
   ]
  },
  {
   "cell_type": "code",
   "execution_count": null,
   "id": "cd0f3529",
   "metadata": {},
   "outputs": [],
   "source": []
  }
 ],
 "metadata": {
  "kernelspec": {
   "display_name": "Python 3 (ipykernel)",
   "language": "python",
   "name": "python3"
  },
  "language_info": {
   "codemirror_mode": {
    "name": "ipython",
    "version": 3
   },
   "file_extension": ".py",
   "mimetype": "text/x-python",
   "name": "python",
   "nbconvert_exporter": "python",
   "pygments_lexer": "ipython3",
   "version": "3.10.4"
  }
 },
 "nbformat": 4,
 "nbformat_minor": 5
}
