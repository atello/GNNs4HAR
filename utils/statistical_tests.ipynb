{
 "cells": [
  {
   "cell_type": "code",
   "execution_count": 1,
   "id": "c212013c",
   "metadata": {},
   "outputs": [],
   "source": [
    "import numpy as np\n",
    "import pickle"
   ]
  },
  {
   "cell_type": "code",
   "execution_count": 2,
   "id": "86bcba1f",
   "metadata": {},
   "outputs": [],
   "source": [
    "PATH = \"/home/andres/Dropbox/PhD Smart Environments - RUG/Experiments/GNNs/gnn_ensemble/out/\"\n",
    "DSNAME = \"UCIHAR\"\n",
    "DS_VARIANT = f\"ensemble\"\n",
    "MODEL = \"graphconv\"\n",
    "postfix = \"20240219_063657\"\n",
    "results_ensemble = pickle.load(open(f\"{PATH}{DSNAME}/ensembles/testing/results_{DS_VARIANT}_{MODEL}_{postfix}.pkl\", 'rb'))\n",
    "y_test = np.asarray(results_ensemble[\"y_test\"])\n",
    "y_pred_ensemble = np.asarray(results_ensemble[\"y_pred\"])"
   ]
  },
  {
   "cell_type": "code",
   "execution_count": 3,
   "id": "245fc4b1",
   "metadata": {},
   "outputs": [],
   "source": [
    "DS_VARIANT = f\"corrcoef_all\"\n",
    "postfix = \"20240216_012344\"\n",
    "results_corrcoef_all = pickle.load(open(f\"{PATH}{DSNAME}/training/results_{DS_VARIANT}_{MODEL}_{postfix}.pkl\", 'rb'))\n",
    "y_pred_corrcoef_all = np.asarray(results_corrcoef_all[\"y_pred\"])"
   ]
  },
  {
   "cell_type": "code",
   "execution_count": 4,
   "id": "bf14851e",
   "metadata": {},
   "outputs": [],
   "source": [
    "DS_VARIANT = f\"corrcoef_win\"\n",
    "postfix = \"20240216_012418\"\n",
    "results_corrcoef_win = pickle.load(open(f\"{PATH}{DSNAME}/training/results_{DS_VARIANT}_{MODEL}_{postfix}.pkl\", 'rb'))\n",
    "y_pred_corrcoef_win = np.asarray(results_corrcoef_win[\"y_pred\"])"
   ]
  },
  {
   "cell_type": "code",
   "execution_count": 5,
   "id": "dd3d897c",
   "metadata": {},
   "outputs": [],
   "source": [
    "DS_VARIANT = f\"contrastive\"\n",
    "postfix = \"20240218_045628\"\n",
    "results_constrastive = pickle.load(open(f\"{PATH}{DSNAME}/training/results_{DS_VARIANT}_{MODEL}_{postfix}.pkl\", 'rb'))\n",
    "y_pred_constrastive = np.asarray(results_constrastive[\"y_pred\"])"
   ]
  },
  {
   "cell_type": "code",
   "execution_count": 41,
   "id": "79d02a8b",
   "metadata": {},
   "outputs": [
    {
     "name": "stdout",
     "output_type": "stream",
     "text": [
      "McNemar's Test:\n",
      "Chi-squared: 37.0\n",
      "p-value: 4.5251347234619534e-05\n"
     ]
    }
   ],
   "source": [
    "from scipy.stats import chi2_contingency\n",
    "from statsmodels.stats.contingency_tables import mcnemar\n",
    "\n",
    "def mcnemar_test(pred_model1, pred_model2, true_values):\n",
    "    model1_correct = (pred_model1 == true_values)\n",
    "    model2_correct = (pred_model2 == true_values)\n",
    "    \n",
    "    a = ((model1_correct == True) & (model2_correct==True)).sum()\n",
    "    b = ((model1_correct == False) & (model2_correct==True)).sum()\n",
    "    c = ((model1_correct == True) & (model2_correct==False)).sum()\n",
    "    d = ((model1_correct == False) & (model2_correct==False)).sum()\n",
    "    \n",
    "    table = [[a, b], [c, d]]\n",
    "    \n",
    "    \n",
    "#     chi2, p = chi2_contingency(table, correction=False)[:2]\n",
    "    result = mcnemar(table, exact=True)\n",
    "    chi2, p = result.statistic, result.pvalue\n",
    "    return chi2, p\n",
    "\n",
    "\n",
    "chi2, p = mcnemar_test(y_pred_constrastive, y_pred_corrcoef_all, y_test)\n",
    "print(\"McNemar's Test:\")\n",
    "print(\"Chi-squared:\", chi2)\n",
    "print(\"p-value:\", p)"
   ]
  },
  {
   "cell_type": "code",
   "execution_count": null,
   "id": "dc4f1eda",
   "metadata": {},
   "outputs": [],
   "source": []
  }
 ],
 "metadata": {
  "kernelspec": {
   "display_name": "Python 3 (ipykernel)",
   "language": "python",
   "name": "python3"
  },
  "language_info": {
   "codemirror_mode": {
    "name": "ipython",
    "version": 3
   },
   "file_extension": ".py",
   "mimetype": "text/x-python",
   "name": "python",
   "nbconvert_exporter": "python",
   "pygments_lexer": "ipython3",
   "version": "3.10.4"
  }
 },
 "nbformat": 4,
 "nbformat_minor": 5
}
