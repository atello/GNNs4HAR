{
 "cells": [
  {
   "cell_type": "code",
   "execution_count": 6,
   "id": "ec1f0280",
   "metadata": {},
   "outputs": [],
   "source": [
    "import os\n",
    "import pickle\n",
    "import pandas as pd"
   ]
  },
  {
   "cell_type": "code",
   "execution_count": 21,
   "id": "9d2c9b21",
   "metadata": {},
   "outputs": [],
   "source": [
    "PATH = \"../out/\"\n",
    "ds_names = [\"UCIHAR\", \"MHEALTH\", \"PAMAP2\"]"
   ]
  },
  {
   "cell_type": "code",
   "execution_count": 28,
   "id": "9c7e380a",
   "metadata": {},
   "outputs": [],
   "source": [
    "summary = []\n",
    "for name in ds_names:\n",
    "    path = PATH + name + \"/training/\"\n",
    "    for file_name in os.listdir(path):\n",
    "        if \"results\" in file_name:\n",
    "            results = pickle.load(open(path + file_name, 'rb'))\n",
    "            exp = file_name.split(\".\")[0].split(\"_\")\n",
    "            \n",
    "            graph_method = \"_\".join(exp[2:5])\n",
    "            graph_method_desc = \"_\".join(exp[5:])\n",
    "            \n",
    "#             print(exp)\n",
    "            \n",
    "            summary.append([\n",
    "                name,\n",
    "                exp[1], \n",
    "                graph_method,\n",
    "                graph_method_desc,\n",
    "                results[\"balanced_accuracy\"],\n",
    "                results[\"accuracy\"],\n",
    "                results[\"f1_score\"]\n",
    "            ])\n",
    "        \n",
    "\n",
    "summary = pd.DataFrame(summary)\n",
    "summary.columns = [\"Dataset\",\n",
    "                   \"Conv_type\", \"graph_method\", \"graph_method_desc\",\n",
    "                   \"balanced_accuracy\", \"accuracy\", \"f1_score\"]\n",
    "        "
   ]
  },
  {
   "cell_type": "code",
   "execution_count": 29,
   "id": "c615814e",
   "metadata": {},
   "outputs": [],
   "source": [
    "sorted_results = summary.sort_values(by=[\"Dataset\", \"balanced_accuracy\", \"Conv_type\", \"graph_method\"], ascending=False)"
   ]
  },
  {
   "cell_type": "code",
   "execution_count": 30,
   "id": "30e5859c",
   "metadata": {},
   "outputs": [
    {
     "data": {
      "text/html": [
       "<div>\n",
       "<style scoped>\n",
       "    .dataframe tbody tr th:only-of-type {\n",
       "        vertical-align: middle;\n",
       "    }\n",
       "\n",
       "    .dataframe tbody tr th {\n",
       "        vertical-align: top;\n",
       "    }\n",
       "\n",
       "    .dataframe thead th {\n",
       "        text-align: right;\n",
       "    }\n",
       "</style>\n",
       "<table border=\"1\" class=\"dataframe\">\n",
       "  <thead>\n",
       "    <tr style=\"text-align: right;\">\n",
       "      <th></th>\n",
       "      <th>Dataset</th>\n",
       "      <th>Conv_type</th>\n",
       "      <th>graph_method</th>\n",
       "      <th>graph_method_desc</th>\n",
       "      <th>balanced_accuracy</th>\n",
       "      <th>accuracy</th>\n",
       "      <th>f1_score</th>\n",
       "    </tr>\n",
       "  </thead>\n",
       "  <tbody>\n",
       "  </tbody>\n",
       "</table>\n",
       "</div>"
      ],
      "text/plain": [
       "Empty DataFrame\n",
       "Columns: [Dataset, Conv_type, graph_method, graph_method_desc, balanced_accuracy, accuracy, f1_score]\n",
       "Index: []"
      ]
     },
     "execution_count": 30,
     "metadata": {},
     "output_type": "execute_result"
    }
   ],
   "source": [
    "sorted_results[(sorted_results.Dataset == \"PAMAP2\") & (sorted_results.Conv_type == \"GraphConv\")] "
   ]
  },
  {
   "cell_type": "code",
   "execution_count": 19,
   "id": "b457cb5a",
   "metadata": {},
   "outputs": [],
   "source": [
    "def plot_results(dataset, idx):\n",
    "    data = summary[summary[\"Dataset\"] == dataset].sort_values(by=[\"balanced_accuracy\", \"Conv_type\"], ascending=False)\n",
    "    data.loc[:, [\"Conv_type\", \"balanced_accuracy\", \"f1_score\"]].plot(x=\"Conv_type\", figsize=(10,4))\n",
    "    print(data.index)"
   ]
  },
  {
   "cell_type": "code",
   "execution_count": 20,
   "id": "100e19f9",
   "metadata": {},
   "outputs": [
    {
     "name": "stdout",
     "output_type": "stream",
     "text": [
      "Int64Index([], dtype='int64')\n"
     ]
    },
    {
     "data": {
      "image/png": "[encoded data removed]",
      "text/plain": [
       "<Figure size 720x288 with 1 Axes>"
      ]
     },
     "metadata": {
      "needs_background": "light"
     },
     "output_type": "display_data"
    }
   ],
   "source": [
    "plot_results(\"UCIHAR\", [])"
   ]
  },
  {
   "cell_type": "code",
   "execution_count": 25,
   "id": "ae5763ba",
   "metadata": {},
   "outputs": [
    {
     "name": "stdout",
     "output_type": "stream",
     "text": [
      "Int64Index([39, 19, 37, 30, 18, 21, 28, 40, 26, 42, 32, 41, 24, 34, 25, 27, 43,\n",
      "            20, 33, 23, 22, 36, 17, 35, 29, 31, 38],\n",
      "           dtype='int64')\n"
     ]
    },
    {
     "data": {
      "image/png": "[encoded data removed]",
      "text/plain": [
       "<Figure size 720x288 with 1 Axes>"
      ]
     },
     "metadata": {
      "needs_background": "light"
     },
     "output_type": "display_data"
    }
   ],
   "source": [
    "plot_results(\"MHEALTH\", [19,40,33,35,31])"
   ]
  },
  {
   "cell_type": "code",
   "execution_count": 26,
   "id": "d05b857a",
   "metadata": {},
   "outputs": [
    {
     "name": "stdout",
     "output_type": "stream",
     "text": [
      "Int64Index([55, 49, 45, 52, 63, 53, 68, 46, 65, 50, 54, 64, 60, 51, 57, 61, 44,\n",
      "            62, 56, 48, 67, 66, 59, 58, 47],\n",
      "           dtype='int64')\n"
     ]
    },
    {
     "data": {
      "image/png": "[encoded data removed]",
      "text/plain": [
       "<Figure size 720x288 with 1 Axes>"
      ]
     },
     "metadata": {
      "needs_background": "light"
     },
     "output_type": "display_data"
    }
   ],
   "source": [
    "plot_results(\"PAMAP2\", [49, 65, 51, 44, 67, 58])"
   ]
  },
  {
   "cell_type": "code",
   "execution_count": 22,
   "id": "d7da5139",
   "metadata": {},
   "outputs": [],
   "source": [
    "import itertools\n",
    "params = [[3], [32, 64, 128], [0.01, 0.05, 0.001, 0.005, 0.0001, 0.0005], [0.5], [False],\n",
    "          [\"add\"], [\"mean\"], [0.5]]\n",
    "search_grid = list(itertools.product(*params))"
   ]
  },
  {
   "cell_type": "code",
   "execution_count": 24,
   "id": "5898e3b2",
   "metadata": {},
   "outputs": [
    {
     "data": {
      "text/plain": [
       "[(3, 32, 0.01, 0.5, False, 'add', 'mean', 0.5),\n",
       " (3, 32, 0.05, 0.5, False, 'add', 'mean', 0.5),\n",
       " (3, 32, 0.001, 0.5, False, 'add', 'mean', 0.5),\n",
       " (3, 32, 0.005, 0.5, False, 'add', 'mean', 0.5),\n",
       " (3, 32, 0.0001, 0.5, False, 'add', 'mean', 0.5),\n",
       " (3, 32, 0.0005, 0.5, False, 'add', 'mean', 0.5),\n",
       " (3, 64, 0.01, 0.5, False, 'add', 'mean', 0.5),\n",
       " (3, 64, 0.05, 0.5, False, 'add', 'mean', 0.5),\n",
       " (3, 64, 0.001, 0.5, False, 'add', 'mean', 0.5),\n",
       " (3, 64, 0.005, 0.5, False, 'add', 'mean', 0.5),\n",
       " (3, 64, 0.0001, 0.5, False, 'add', 'mean', 0.5),\n",
       " (3, 64, 0.0005, 0.5, False, 'add', 'mean', 0.5),\n",
       " (3, 128, 0.01, 0.5, False, 'add', 'mean', 0.5),\n",
       " (3, 128, 0.05, 0.5, False, 'add', 'mean', 0.5),\n",
       " (3, 128, 0.001, 0.5, False, 'add', 'mean', 0.5),\n",
       " (3, 128, 0.005, 0.5, False, 'add', 'mean', 0.5),\n",
       " (3, 128, 0.0001, 0.5, False, 'add', 'mean', 0.5),\n",
       " (3, 128, 0.0005, 0.5, False, 'add', 'mean', 0.5)]"
      ]
     },
     "execution_count": 24,
     "metadata": {},
     "output_type": "execute_result"
    }
   ],
   "source": [
    "search_grid"
   ]
  },
  {
   "cell_type": "code",
   "execution_count": 53,
   "id": "e241863b",
   "metadata": {},
   "outputs": [
    {
     "name": "stdout",
     "output_type": "stream",
     "text": [
      "0001\n"
     ]
    }
   ],
   "source": [
    "n = \"1\"\n",
    "print(n.zfill(4))"
   ]
  }
 ],
 "metadata": {
  "kernelspec": {
   "display_name": "Python 3 (ipykernel)",
   "language": "python",
   "name": "python3"
  },
  "language_info": {
   "codemirror_mode": {
    "name": "ipython",
    "version": 3
   },
   "file_extension": ".py",
   "mimetype": "text/x-python",
   "name": "python",
   "nbconvert_exporter": "python",
   "pygments_lexer": "ipython3",
   "version": "3.10.4"
  }
 },
 "nbformat": 4,
 "nbformat_minor": 5
}
