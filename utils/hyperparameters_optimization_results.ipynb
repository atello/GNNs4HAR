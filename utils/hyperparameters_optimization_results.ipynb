{
 "cells": [
  {
   "cell_type": "code",
   "execution_count": 1,
   "id": "ec1f0280",
   "metadata": {},
   "outputs": [],
   "source": [
    "import os\n",
    "import pickle\n",
    "import pandas as pd\n",
    "import torch\n",
    "import numpy as np\n",
    "import itertools\n",
    "import json"
   ]
  },
  {
   "cell_type": "code",
   "execution_count": 2,
   "id": "9d2c9b21",
   "metadata": {},
   "outputs": [],
   "source": [
    "PATH = \"/home/andres/ray_results/hyperparams_optim/\"\n",
    "# ds_names = [\"UCIHAR\", \"MHEALTH\"]\n",
    "# variants = [\"corrcoef_all\", \"corrcoef_win\"]\n",
    "\n",
    "ds_names = [\"REALDISP\"]\n",
    "variants = [\"corrcoef_win\"]\n",
    "models = [\"graphconv\"]"
   ]
  },
  {
   "cell_type": "code",
   "execution_count": 3,
   "id": "503a88db",
   "metadata": {},
   "outputs": [
    {
     "name": "stdout",
     "output_type": "stream",
     "text": [
      "missing checkpoints: 0\n"
     ]
    }
   ],
   "source": [
    "results = []\n",
    "configs = {}\n",
    "hpo_dirs = [f\"{r[0]}_{r[1]}_{r[2]}\" for r in itertools.product(ds_names, variants, models)]\n",
    "missing_checkpoints = 0\n",
    "for hpodir in hpo_dirs:\n",
    "    if os.path.exists(os.path.join(PATH, hpodir)):\n",
    "        for trainer_dir in os.listdir(os.path.join(PATH, hpodir)):\n",
    "            for trainer in os.listdir(os.path.join(PATH, hpodir, trainer_dir)):\n",
    "                if \"trainer\" in trainer:\n",
    "                    file_path = os.path.join(PATH, hpodir, trainer_dir, trainer, \"checkpoints\", \"best_trial.pth\")\n",
    "                    try:\n",
    "                        checkpoint = torch.load(file_path, map_location=torch.device(\"cpu\"))\n",
    "                        \n",
    "                        dataset = hpodir.split(\"_\")[0]\n",
    "                        if dataset == \"PAMAP2\":\n",
    "                            variant = '_'.join(hpodir.split(\"_\")[1:4])\n",
    "                            model = hpodir.split(\"_\")[4]\n",
    "                        else:\n",
    "                            variant = '_'.join(hpodir.split(\"_\")[1:3])\n",
    "                            model = hpodir.split(\"_\")[3]\n",
    "                            \n",
    "                        trial_id = \"_\".join(trainer.split('_')[0:3])\n",
    "                            \n",
    "                        results.append([dataset,  # dataset\n",
    "                                        variant, # variant\n",
    "                                        model, # model\n",
    "                                        trial_id, # trial\n",
    "                                        checkpoint[\"loss\"], # loss\n",
    "                                        checkpoint[\"acc\"]]) # accuracy\n",
    "                        conf = json.load(open(os.path.join(PATH, hpodir, trainer_dir, trainer, \"params.json\")))\n",
    "                        configs[\"_\".join(trainer.split('_')[0:3])] = conf\n",
    "                    except:\n",
    "                        missing_checkpoints += 1\n",
    "                        print(f\"Checkpoint for {'_'.join(trainer.split('_')[0:3])} corrupted or missing\")\n",
    "                        continue\n",
    "                        \n",
    "print(f\"missing checkpoints: {missing_checkpoints}\")"
   ]
  },
  {
   "cell_type": "code",
   "execution_count": 4,
   "id": "0f838c87",
   "metadata": {},
   "outputs": [
    {
     "data": {
      "text/html": [
       "<div>\n",
       "<style scoped>\n",
       "    .dataframe tbody tr th:only-of-type {\n",
       "        vertical-align: middle;\n",
       "    }\n",
       "\n",
       "    .dataframe tbody tr th {\n",
       "        vertical-align: top;\n",
       "    }\n",
       "\n",
       "    .dataframe thead th {\n",
       "        text-align: right;\n",
       "    }\n",
       "</style>\n",
       "<table border=\"1\" class=\"dataframe\">\n",
       "  <thead>\n",
       "    <tr style=\"text-align: right;\">\n",
       "      <th></th>\n",
       "      <th>dataset</th>\n",
       "      <th>variant</th>\n",
       "      <th>model</th>\n",
       "      <th>trial</th>\n",
       "      <th>loss</th>\n",
       "      <th>accuracy</th>\n",
       "    </tr>\n",
       "  </thead>\n",
       "  <tbody>\n",
       "    <tr>\n",
       "      <th>0</th>\n",
       "      <td>REALDISP</td>\n",
       "      <td>corrcoef_all</td>\n",
       "      <td>graphconv</td>\n",
       "      <td>trainer_6dc111c8_284</td>\n",
       "      <td>0.18028129576970522</td>\n",
       "      <td>0.9474216380182002</td>\n",
       "    </tr>\n",
       "    <tr>\n",
       "      <th>1</th>\n",
       "      <td>REALDISP</td>\n",
       "      <td>corrcoef_all</td>\n",
       "      <td>graphconv</td>\n",
       "      <td>trainer_474d5fd2_439</td>\n",
       "      <td>0.23944790827070836</td>\n",
       "      <td>0.910010111223458</td>\n",
       "    </tr>\n",
       "    <tr>\n",
       "      <th>2</th>\n",
       "      <td>REALDISP</td>\n",
       "      <td>corrcoef_all</td>\n",
       "      <td>graphconv</td>\n",
       "      <td>trainer_e1807e33_137</td>\n",
       "      <td>0.45513819504136205</td>\n",
       "      <td>0.8048533872598584</td>\n",
       "    </tr>\n",
       "    <tr>\n",
       "      <th>3</th>\n",
       "      <td>REALDISP</td>\n",
       "      <td>corrcoef_all</td>\n",
       "      <td>graphconv</td>\n",
       "      <td>trainer_953d0efd_467</td>\n",
       "      <td>0.28106936186371245</td>\n",
       "      <td>0.9150657229524772</td>\n",
       "    </tr>\n",
       "    <tr>\n",
       "      <th>4</th>\n",
       "      <td>REALDISP</td>\n",
       "      <td>corrcoef_all</td>\n",
       "      <td>graphconv</td>\n",
       "      <td>trainer_bfd956ac_375</td>\n",
       "      <td>0.6791088931610528</td>\n",
       "      <td>0.8230535894843276</td>\n",
       "    </tr>\n",
       "  </tbody>\n",
       "</table>\n",
       "</div>"
      ],
      "text/plain": [
       "    dataset       variant      model                 trial  \\\n",
       "0  REALDISP  corrcoef_all  graphconv  trainer_6dc111c8_284   \n",
       "1  REALDISP  corrcoef_all  graphconv  trainer_474d5fd2_439   \n",
       "2  REALDISP  corrcoef_all  graphconv  trainer_e1807e33_137   \n",
       "3  REALDISP  corrcoef_all  graphconv  trainer_953d0efd_467   \n",
       "4  REALDISP  corrcoef_all  graphconv  trainer_bfd956ac_375   \n",
       "\n",
       "                  loss            accuracy  \n",
       "0  0.18028129576970522  0.9474216380182002  \n",
       "1  0.23944790827070836   0.910010111223458  \n",
       "2  0.45513819504136205  0.8048533872598584  \n",
       "3  0.28106936186371245  0.9150657229524772  \n",
       "4   0.6791088931610528  0.8230535894843276  "
      ]
     },
     "execution_count": 4,
     "metadata": {},
     "output_type": "execute_result"
    }
   ],
   "source": [
    "results = pd.DataFrame(data=np.asarray(results), columns=[\"dataset\", \"variant\", \"model\", \"trial\",\"loss\",\"accuracy\"])\n",
    "results.head()"
   ]
  },
  {
   "cell_type": "code",
   "execution_count": 5,
   "id": "d71c9764",
   "metadata": {},
   "outputs": [
    {
     "data": {
      "text/html": [
       "<div>\n",
       "<style scoped>\n",
       "    .dataframe tbody tr th:only-of-type {\n",
       "        vertical-align: middle;\n",
       "    }\n",
       "\n",
       "    .dataframe tbody tr th {\n",
       "        vertical-align: top;\n",
       "    }\n",
       "\n",
       "    .dataframe thead th {\n",
       "        text-align: right;\n",
       "    }\n",
       "</style>\n",
       "<table border=\"1\" class=\"dataframe\">\n",
       "  <thead>\n",
       "    <tr style=\"text-align: right;\">\n",
       "      <th></th>\n",
       "      <th>dataset</th>\n",
       "      <th>variant</th>\n",
       "      <th>model</th>\n",
       "      <th>trial</th>\n",
       "      <th>loss</th>\n",
       "      <th>accuracy</th>\n",
       "    </tr>\n",
       "  </thead>\n",
       "  <tbody>\n",
       "  </tbody>\n",
       "</table>\n",
       "</div>"
      ],
      "text/plain": [
       "Empty DataFrame\n",
       "Columns: [dataset, variant, model, trial, loss, accuracy]\n",
       "Index: []"
      ]
     },
     "execution_count": 5,
     "metadata": {},
     "output_type": "execute_result"
    }
   ],
   "source": [
    "results.loc[(results[\"dataset\"] == \"PAMAP2\") & \n",
    "         (results[\"variant\"] == \"corrcoef_all_interpolate\") & \n",
    "         (results[\"model\"] == \"graphconv\")].sort_values(by=[\"loss\"])"
   ]
  },
  {
   "cell_type": "code",
   "execution_count": 10,
   "id": "2f3539e6",
   "metadata": {},
   "outputs": [],
   "source": [
    "def get_best_trial_conf(ds_name, variant, model, data):\n",
    "    results = data\n",
    "    best_trial = np.array(results.loc[(results[\"dataset\"] == ds_name) & \n",
    "             (results[\"variant\"] == variant) & \n",
    "             (results[\"model\"] == model)])\n",
    "    ret = \"\"\n",
    "    if len(best_trial)>0:\n",
    "        best_trial = best_trial[np.argsort(best_trial[:,4])][0, 3]\n",
    "        variant_str = f\"--ds_variant={'_'.join(variant.split('_')[0:-1])} --fillnan={variant.split('_')[-1]}\" if ds_name == \"PAMAP2\" else f\"--ds_variant={variant}\"  \n",
    "        ret = f\"python3 activity_graph_classification.py --epochs=500 --ds_name={ds_name} {variant_str} --model_name={model} \"\n",
    "        add_batch_norm = False\n",
    "        for k, v in configs[best_trial].items():\n",
    "            if k not in [\"epochs\", \"batch_norm\", \"epochs\", \"ds_name\", \"ds_variant\", \"model_name\"]:\n",
    "                ret += f\"--{k}={v} \"\n",
    "            if k == \"batch_norm\":\n",
    "                add_batch_norm = v\n",
    "                \n",
    "        ret += \"--patience_tr=100 \"\n",
    "        if add_batch_norm:\n",
    "            ret += \"--batch_norm --log_wandb\"\n",
    "    \n",
    "    return ret"
   ]
  },
  {
   "cell_type": "code",
   "execution_count": 11,
   "id": "bd85f9fb",
   "metadata": {},
   "outputs": [
    {
     "name": "stdout",
     "output_type": "stream",
     "text": [
      "python3 activity_graph_classification.py --epochs=500 --ds_name=REALDISP --ds_variant=corrcoef_all --model_name=graphconv --aggr=max --batch_size=64 --classifier_dropout=0.3 --conv_dropout=0.1 --global_pooling=max --hidden_dim=128 --input_dim=128 --lr=0.00417 --num_layers=3 --out_dim=10 --w_decay=0.000355 --patience_tr=100 --batch_norm --log_wandb\n"
     ]
    }
   ],
   "source": [
    "params = [(r[0], r[1], r[2],) for r in itertools.product(ds_names, variants, models)]\n",
    "for ds_name, variant, model in params:\n",
    "    command = get_best_trial_conf(ds_name, variant, model, results)\n",
    "    if command != \"\":\n",
    "        print(command)"
   ]
  },
  {
   "cell_type": "code",
   "execution_count": null,
   "id": "9c7e380a",
   "metadata": {},
   "outputs": [],
   "source": [
    "summary = []\n",
    "for name in ds_names:\n",
    "    path = PATH + name + \"/training/\"\n",
    "    for file_name in os.listdir(path):\n",
    "        if \"results\" in file_name:\n",
    "            results = pickle.load(open(path + file_name, 'rb'))\n",
    "            exp = file_name.split(\".\")[0].split(\"_\")\n",
    "            \n",
    "            graph_method = \"_\".join(exp[2:5])\n",
    "            graph_method_desc = \"_\".join(exp[5:])\n",
    "            \n",
    "#             print(exp)\n",
    "            \n",
    "            summary.append([\n",
    "                name,\n",
    "                exp[1], \n",
    "                graph_method,\n",
    "                graph_method_desc,\n",
    "                results[\"balanced_accuracy\"],\n",
    "                results[\"accuracy\"],\n",
    "                results[\"f1_score\"]\n",
    "            ])\n",
    "        \n",
    "\n",
    "summary = pd.DataFrame(summary)\n",
    "summary.columns = [\"Dataset\",\n",
    "                   \"Conv_type\", \"graph_method\", \"graph_method_desc\",\n",
    "                   \"balanced_accuracy\", \"accuracy\", \"f1_score\"]\n",
    "        "
   ]
  },
  {
   "cell_type": "code",
   "execution_count": null,
   "id": "c615814e",
   "metadata": {},
   "outputs": [],
   "source": [
    "sorted_results = summary.sort_values(by=[\"Dataset\", \"balanced_accuracy\", \"Conv_type\", \"graph_method\"], ascending=False)"
   ]
  },
  {
   "cell_type": "code",
   "execution_count": null,
   "id": "30e5859c",
   "metadata": {},
   "outputs": [],
   "source": [
    "sorted_results[(sorted_results.Dataset == \"PAMAP2\") & (sorted_results.Conv_type == \"GraphConv\")] "
   ]
  },
  {
   "cell_type": "code",
   "execution_count": null,
   "id": "b457cb5a",
   "metadata": {},
   "outputs": [],
   "source": [
    "def plot_results(dataset, idx):\n",
    "    data = summary[summary[\"Dataset\"] == dataset].sort_values(by=[\"balanced_accuracy\", \"Conv_type\"], ascending=False)\n",
    "    data.loc[:, [\"Conv_type\", \"balanced_accuracy\", \"f1_score\"]].plot(x=\"Conv_type\", figsize=(10,4))\n",
    "    print(data.index)"
   ]
  },
  {
   "cell_type": "code",
   "execution_count": null,
   "id": "100e19f9",
   "metadata": {},
   "outputs": [],
   "source": [
    "plot_results(\"UCIHAR\", [])"
   ]
  },
  {
   "cell_type": "code",
   "execution_count": null,
   "id": "ae5763ba",
   "metadata": {},
   "outputs": [],
   "source": [
    "plot_results(\"MHEALTH\", [19,40,33,35,31])"
   ]
  },
  {
   "cell_type": "code",
   "execution_count": null,
   "id": "d05b857a",
   "metadata": {},
   "outputs": [],
   "source": [
    "plot_results(\"PAMAP2\", [49, 65, 51, 44, 67, 58])"
   ]
  },
  {
   "cell_type": "code",
   "execution_count": null,
   "id": "d7da5139",
   "metadata": {},
   "outputs": [],
   "source": [
    "import itertools\n",
    "params = [[3], [32, 64, 128], [0.01, 0.05, 0.001, 0.005, 0.0001, 0.0005], [0.5], [False],\n",
    "          [\"add\"], [\"mean\"], [0.5]]\n",
    "search_grid = list(itertools.product(*params))"
   ]
  },
  {
   "cell_type": "code",
   "execution_count": null,
   "id": "5898e3b2",
   "metadata": {},
   "outputs": [],
   "source": [
    "search_grid"
   ]
  },
  {
   "cell_type": "code",
   "execution_count": null,
   "id": "e241863b",
   "metadata": {},
   "outputs": [],
   "source": [
    "n = \"1\"\n",
    "print(n.zfill(4))"
   ]
  }
 ],
 "metadata": {
  "kernelspec": {
   "display_name": "Python 3 (ipykernel)",
   "language": "python",
   "name": "python3"
  },
  "language_info": {
   "codemirror_mode": {
    "name": "ipython",
    "version": 3
   },
   "file_extension": ".py",
   "mimetype": "text/x-python",
   "name": "python",
   "nbconvert_exporter": "python",
   "pygments_lexer": "ipython3",
   "version": "3.10.4"
  }
 },
 "nbformat": 4,
 "nbformat_minor": 5
}
